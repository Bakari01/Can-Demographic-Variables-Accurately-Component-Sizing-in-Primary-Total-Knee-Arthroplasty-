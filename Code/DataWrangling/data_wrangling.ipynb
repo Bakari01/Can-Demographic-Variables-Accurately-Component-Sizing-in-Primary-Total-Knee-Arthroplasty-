{
 "cells": [
  {
   "cell_type": "markdown",
   "metadata": {},
   "source": [
    "# Data Wrangling"
   ]
  },
  {
   "cell_type": "markdown",
   "metadata": {},
   "source": [
    "## Gather"
   ]
  },
  {
   "cell_type": "code",
   "execution_count": 1,
   "metadata": {},
   "outputs": [],
   "source": [
    "# Loading packages\n",
    "import pandas as pd\n",
    "import numpy as np\n",
    "import matplotlib.pyplot as plt\n",
    "import seaborn as sns\n",
    "%matplotlib inline\n",
    "import missingno as msno\n",
    "import os\n",
    "import sys\n",
    "import warnings\n",
    "warnings.filterwarnings('ignore')"
   ]
  },
  {
   "cell_type": "code",
   "execution_count": 2,
   "metadata": {},
   "outputs": [],
   "source": [
    "# Load data\n",
    "tka_train = pd.read_excel(r'C:\\Users\\HP\\Desktop\\Predicting-Component-Sizing-in-Primary-Total-Knee-Arthroplasty-using-Demographic-Variables\\Data\\Raw\\Training Data Set- Clean.xlsx')\n",
    "tka_test = pd.read_excel(r'C:\\Users\\HP\\Desktop\\Predicting-Component-Sizing-in-Primary-Total-Knee-Arthroplasty-using-Demographic-Variables\\Data\\Raw\\Testing Data Set- Clean.xlsx')"
   ]
  },
  {
   "cell_type": "markdown",
   "metadata": {},
   "source": [
    "## Assess"
   ]
  },
  {
   "cell_type": "code",
   "execution_count": 3,
   "metadata": {},
   "outputs": [
    {
     "data": {
      "text/html": [
       "<div>\n",
       "<style scoped>\n",
       "    .dataframe tbody tr th:only-of-type {\n",
       "        vertical-align: middle;\n",
       "    }\n",
       "\n",
       "    .dataframe tbody tr th {\n",
       "        vertical-align: top;\n",
       "    }\n",
       "\n",
       "    .dataframe thead th {\n",
       "        text-align: right;\n",
       "    }\n",
       "</style>\n",
       "<table border=\"1\" class=\"dataframe\">\n",
       "  <thead>\n",
       "    <tr style=\"text-align: right;\">\n",
       "      <th></th>\n",
       "      <th>Femur AP Dimension (mm)</th>\n",
       "      <th>Tibia ML Dimension (mm)</th>\n",
       "      <th>Demographics.Gender (0=Female, 1=Male)</th>\n",
       "      <th>Procedure_TKR.Height_cm</th>\n",
       "      <th>Procedure_TKR.Weight_kg</th>\n",
       "      <th>Procedure_TKR.BMI</th>\n",
       "    </tr>\n",
       "  </thead>\n",
       "  <tbody>\n",
       "    <tr>\n",
       "      <th>count</th>\n",
       "      <td>3389.000000</td>\n",
       "      <td>3384.000000</td>\n",
       "      <td>3400.000000</td>\n",
       "      <td>3393.000000</td>\n",
       "      <td>3399.000000</td>\n",
       "      <td>3385.000000</td>\n",
       "    </tr>\n",
       "    <tr>\n",
       "      <th>mean</th>\n",
       "      <td>64.445117</td>\n",
       "      <td>72.255496</td>\n",
       "      <td>0.372647</td>\n",
       "      <td>168.853248</td>\n",
       "      <td>96.577129</td>\n",
       "      <td>35.346689</td>\n",
       "    </tr>\n",
       "    <tr>\n",
       "      <th>std</th>\n",
       "      <td>56.865458</td>\n",
       "      <td>57.014339</td>\n",
       "      <td>0.483580</td>\n",
       "      <td>56.762893</td>\n",
       "      <td>61.697155</td>\n",
       "      <td>29.581954</td>\n",
       "    </tr>\n",
       "    <tr>\n",
       "      <th>min</th>\n",
       "      <td>52.300000</td>\n",
       "      <td>43.000000</td>\n",
       "      <td>0.000000</td>\n",
       "      <td>0.000000</td>\n",
       "      <td>0.000000</td>\n",
       "      <td>12.771436</td>\n",
       "    </tr>\n",
       "    <tr>\n",
       "      <th>25%</th>\n",
       "      <td>59.600000</td>\n",
       "      <td>66.000000</td>\n",
       "      <td>0.000000</td>\n",
       "      <td>160.020000</td>\n",
       "      <td>78.000000</td>\n",
       "      <td>27.896468</td>\n",
       "    </tr>\n",
       "    <tr>\n",
       "      <th>50%</th>\n",
       "      <td>63.500000</td>\n",
       "      <td>71.000000</td>\n",
       "      <td>0.000000</td>\n",
       "      <td>167.640000</td>\n",
       "      <td>92.300000</td>\n",
       "      <td>32.227499</td>\n",
       "    </tr>\n",
       "    <tr>\n",
       "      <th>75%</th>\n",
       "      <td>66.200000</td>\n",
       "      <td>75.100000</td>\n",
       "      <td>1.000000</td>\n",
       "      <td>175.260000</td>\n",
       "      <td>109.090000</td>\n",
       "      <td>37.966465</td>\n",
       "    </tr>\n",
       "    <tr>\n",
       "      <th>max</th>\n",
       "      <td>3363.000000</td>\n",
       "      <td>3371.000000</td>\n",
       "      <td>1.000000</td>\n",
       "      <td>3377.000000</td>\n",
       "      <td>3377.000000</td>\n",
       "      <td>622.558594</td>\n",
       "    </tr>\n",
       "  </tbody>\n",
       "</table>\n",
       "</div>"
      ],
      "text/plain": [
       "       Femur AP Dimension (mm)  Tibia ML Dimension (mm)  \\\n",
       "count              3389.000000              3384.000000   \n",
       "mean                 64.445117                72.255496   \n",
       "std                  56.865458                57.014339   \n",
       "min                  52.300000                43.000000   \n",
       "25%                  59.600000                66.000000   \n",
       "50%                  63.500000                71.000000   \n",
       "75%                  66.200000                75.100000   \n",
       "max                3363.000000              3371.000000   \n",
       "\n",
       "       Demographics.Gender (0=Female, 1=Male)  Procedure_TKR.Height_cm  \\\n",
       "count                             3400.000000              3393.000000   \n",
       "mean                                 0.372647               168.853248   \n",
       "std                                  0.483580                56.762893   \n",
       "min                                  0.000000                 0.000000   \n",
       "25%                                  0.000000               160.020000   \n",
       "50%                                  0.000000               167.640000   \n",
       "75%                                  1.000000               175.260000   \n",
       "max                                  1.000000              3377.000000   \n",
       "\n",
       "       Procedure_TKR.Weight_kg  Procedure_TKR.BMI  \n",
       "count              3399.000000        3385.000000  \n",
       "mean                 96.577129          35.346689  \n",
       "std                  61.697155          29.581954  \n",
       "min                   0.000000          12.771436  \n",
       "25%                  78.000000          27.896468  \n",
       "50%                  92.300000          32.227499  \n",
       "75%                 109.090000          37.966465  \n",
       "max                3377.000000         622.558594  "
      ]
     },
     "execution_count": 3,
     "metadata": {},
     "output_type": "execute_result"
    }
   ],
   "source": [
    "tka_train.describe()"
   ]
  },
  {
   "cell_type": "code",
   "execution_count": 4,
   "metadata": {},
   "outputs": [
    {
     "data": {
      "text/html": [
       "<div>\n",
       "<style scoped>\n",
       "    .dataframe tbody tr th:only-of-type {\n",
       "        vertical-align: middle;\n",
       "    }\n",
       "\n",
       "    .dataframe tbody tr th {\n",
       "        vertical-align: top;\n",
       "    }\n",
       "\n",
       "    .dataframe thead th {\n",
       "        text-align: right;\n",
       "    }\n",
       "</style>\n",
       "<table border=\"1\" class=\"dataframe\">\n",
       "  <thead>\n",
       "    <tr style=\"text-align: right;\">\n",
       "      <th></th>\n",
       "      <th>age</th>\n",
       "      <th>Demographics.Gender (0=Female, 1=Male)</th>\n",
       "      <th>Procedure_TKR.BMI</th>\n",
       "      <th>Procedure_TKR.Weight_kg</th>\n",
       "      <th>Procedure_TKR.Height_cm</th>\n",
       "      <th>Femur implanted</th>\n",
       "      <th>Tibia Implanted</th>\n",
       "    </tr>\n",
       "  </thead>\n",
       "  <tbody>\n",
       "    <tr>\n",
       "      <th>count</th>\n",
       "      <td>495.000000</td>\n",
       "      <td>496.000000</td>\n",
       "      <td>490.000000</td>\n",
       "      <td>491.000000</td>\n",
       "      <td>491.000000</td>\n",
       "      <td>491.000000</td>\n",
       "      <td>488.000000</td>\n",
       "    </tr>\n",
       "    <tr>\n",
       "      <th>mean</th>\n",
       "      <td>65.060606</td>\n",
       "      <td>0.389113</td>\n",
       "      <td>33.332373</td>\n",
       "      <td>95.979063</td>\n",
       "      <td>169.359898</td>\n",
       "      <td>64.157434</td>\n",
       "      <td>71.393033</td>\n",
       "    </tr>\n",
       "    <tr>\n",
       "      <th>std</th>\n",
       "      <td>9.329786</td>\n",
       "      <td>0.488041</td>\n",
       "      <td>6.857739</td>\n",
       "      <td>23.122266</td>\n",
       "      <td>11.086556</td>\n",
       "      <td>5.047097</td>\n",
       "      <td>5.876109</td>\n",
       "    </tr>\n",
       "    <tr>\n",
       "      <th>min</th>\n",
       "      <td>30.000000</td>\n",
       "      <td>0.000000</td>\n",
       "      <td>18.959000</td>\n",
       "      <td>44.900000</td>\n",
       "      <td>139.700000</td>\n",
       "      <td>51.900000</td>\n",
       "      <td>58.000000</td>\n",
       "    </tr>\n",
       "    <tr>\n",
       "      <th>25%</th>\n",
       "      <td>59.000000</td>\n",
       "      <td>0.000000</td>\n",
       "      <td>28.638000</td>\n",
       "      <td>80.300000</td>\n",
       "      <td>160.000000</td>\n",
       "      <td>59.600000</td>\n",
       "      <td>66.000000</td>\n",
       "    </tr>\n",
       "    <tr>\n",
       "      <th>50%</th>\n",
       "      <td>66.000000</td>\n",
       "      <td>0.000000</td>\n",
       "      <td>32.289500</td>\n",
       "      <td>93.400000</td>\n",
       "      <td>167.710000</td>\n",
       "      <td>63.000000</td>\n",
       "      <td>71.000000</td>\n",
       "    </tr>\n",
       "    <tr>\n",
       "      <th>75%</th>\n",
       "      <td>71.500000</td>\n",
       "      <td>1.000000</td>\n",
       "      <td>37.459250</td>\n",
       "      <td>108.700000</td>\n",
       "      <td>177.800000</td>\n",
       "      <td>67.350000</td>\n",
       "      <td>75.000000</td>\n",
       "    </tr>\n",
       "    <tr>\n",
       "      <th>max</th>\n",
       "      <td>87.000000</td>\n",
       "      <td>1.000000</td>\n",
       "      <td>62.980000</td>\n",
       "      <td>195.000000</td>\n",
       "      <td>195.600000</td>\n",
       "      <td>77.500000</td>\n",
       "      <td>87.000000</td>\n",
       "    </tr>\n",
       "  </tbody>\n",
       "</table>\n",
       "</div>"
      ],
      "text/plain": [
       "              age  Demographics.Gender (0=Female, 1=Male)  Procedure_TKR.BMI  \\\n",
       "count  495.000000                              496.000000         490.000000   \n",
       "mean    65.060606                                0.389113          33.332373   \n",
       "std      9.329786                                0.488041           6.857739   \n",
       "min     30.000000                                0.000000          18.959000   \n",
       "25%     59.000000                                0.000000          28.638000   \n",
       "50%     66.000000                                0.000000          32.289500   \n",
       "75%     71.500000                                1.000000          37.459250   \n",
       "max     87.000000                                1.000000          62.980000   \n",
       "\n",
       "       Procedure_TKR.Weight_kg  Procedure_TKR.Height_cm  Femur implanted  \\\n",
       "count               491.000000               491.000000       491.000000   \n",
       "mean                 95.979063               169.359898        64.157434   \n",
       "std                  23.122266                11.086556         5.047097   \n",
       "min                  44.900000               139.700000        51.900000   \n",
       "25%                  80.300000               160.000000        59.600000   \n",
       "50%                  93.400000               167.710000        63.000000   \n",
       "75%                 108.700000               177.800000        67.350000   \n",
       "max                 195.000000               195.600000        77.500000   \n",
       "\n",
       "       Tibia Implanted  \n",
       "count       488.000000  \n",
       "mean         71.393033  \n",
       "std           5.876109  \n",
       "min          58.000000  \n",
       "25%          66.000000  \n",
       "50%          71.000000  \n",
       "75%          75.000000  \n",
       "max          87.000000  "
      ]
     },
     "execution_count": 4,
     "metadata": {},
     "output_type": "execute_result"
    }
   ],
   "source": [
    "tka_test.describe()"
   ]
  },
  {
   "cell_type": "code",
   "execution_count": 5,
   "metadata": {},
   "outputs": [
    {
     "data": {
      "text/html": [
       "<div>\n",
       "<style scoped>\n",
       "    .dataframe tbody tr th:only-of-type {\n",
       "        vertical-align: middle;\n",
       "    }\n",
       "\n",
       "    .dataframe tbody tr th {\n",
       "        vertical-align: top;\n",
       "    }\n",
       "\n",
       "    .dataframe thead th {\n",
       "        text-align: right;\n",
       "    }\n",
       "</style>\n",
       "<table border=\"1\" class=\"dataframe\">\n",
       "  <thead>\n",
       "    <tr style=\"text-align: right;\">\n",
       "      <th></th>\n",
       "      <th>Procedure_TKR2.F_Company</th>\n",
       "      <th>Procedure_TKR2.F_Model</th>\n",
       "      <th>Procedure_TKR2.F_Details</th>\n",
       "      <th>Femur AP Dimension (mm)</th>\n",
       "      <th>Procedure_TKR2.T_Model</th>\n",
       "      <th>Procedure_TKR2.T_Details</th>\n",
       "      <th>Tibia ML Dimension (mm)</th>\n",
       "      <th>Procedure_TKR2.Pat_Model</th>\n",
       "      <th>Procedure_TKR2.Pat_Details</th>\n",
       "      <th>Procedure_TKR2.Poly_Model</th>\n",
       "      <th>...</th>\n",
       "      <th>Demographics.Gender (0=Female, 1=Male)</th>\n",
       "      <th>Procedure_TKR.Height_cm</th>\n",
       "      <th>Procedure_TKR.Weight_kg</th>\n",
       "      <th>Procedure_TKR.BMI</th>\n",
       "      <th>Surgery_Main.Side</th>\n",
       "      <th>Surgery_Main.Procedure</th>\n",
       "      <th>Procedure_TKR.Primary_Diagnosis</th>\n",
       "      <th>Procedure_TKR.ASARisk</th>\n",
       "      <th>Procedure_TKR.Approach</th>\n",
       "      <th>Unnamed: 22</th>\n",
       "    </tr>\n",
       "  </thead>\n",
       "  <tbody>\n",
       "    <tr>\n",
       "      <th>0</th>\n",
       "      <td>Zimmer</td>\n",
       "      <td>Persona</td>\n",
       "      <td>Size 6, Left, Cemented, PS, Standard</td>\n",
       "      <td>60.4</td>\n",
       "      <td>Persona</td>\n",
       "      <td>Size C, Left, 5 Degree, STM</td>\n",
       "      <td>63.8</td>\n",
       "      <td>Persona</td>\n",
       "      <td>All poly, 35mm</td>\n",
       "      <td>Persona</td>\n",
       "      <td>...</td>\n",
       "      <td>0.0</td>\n",
       "      <td>60.00</td>\n",
       "      <td>58.64</td>\n",
       "      <td>162.888889</td>\n",
       "      <td>Left</td>\n",
       "      <td>Primary TKR</td>\n",
       "      <td>Degenerative Arthritis</td>\n",
       "      <td>II</td>\n",
       "      <td>Medial Parapatellar</td>\n",
       "      <td>NaN</td>\n",
       "    </tr>\n",
       "    <tr>\n",
       "      <th>1</th>\n",
       "      <td>Zimmer</td>\n",
       "      <td>NexGen LPS Option</td>\n",
       "      <td>Left, Size C</td>\n",
       "      <td>53.5</td>\n",
       "      <td>NexGen</td>\n",
       "      <td>Micro/1, 40mm A/P, 58mm M/L, Precoat Stemmed</td>\n",
       "      <td>58.0</td>\n",
       "      <td>NaN</td>\n",
       "      <td>NaN</td>\n",
       "      <td>NaN</td>\n",
       "      <td>...</td>\n",
       "      <td>0.0</td>\n",
       "      <td>116.84</td>\n",
       "      <td>62.20</td>\n",
       "      <td>45.562473</td>\n",
       "      <td>Left</td>\n",
       "      <td>Primary TKR</td>\n",
       "      <td>NaN</td>\n",
       "      <td>III</td>\n",
       "      <td>Medial Parapatellar</td>\n",
       "      <td>NaN</td>\n",
       "    </tr>\n",
       "    <tr>\n",
       "      <th>2</th>\n",
       "      <td>Zimmer</td>\n",
       "      <td>NexGen GS LPS - Flex</td>\n",
       "      <td>Left, Size D</td>\n",
       "      <td>57.5</td>\n",
       "      <td>NexGen</td>\n",
       "      <td>Size 3, PreCoat Stemmed</td>\n",
       "      <td>66.0</td>\n",
       "      <td>NexGen All-Poly Patella</td>\n",
       "      <td>32mm, 8.5mm Thickness</td>\n",
       "      <td>NexGen LPS-Flex Fixed Molded Articular Surface</td>\n",
       "      <td>...</td>\n",
       "      <td>0.0</td>\n",
       "      <td>127.00</td>\n",
       "      <td>52.00</td>\n",
       "      <td>32.240064</td>\n",
       "      <td>Left</td>\n",
       "      <td>Primary TKR</td>\n",
       "      <td>Degenerative Arthritis</td>\n",
       "      <td>III</td>\n",
       "      <td>MIS-Midvastus</td>\n",
       "      <td>NaN</td>\n",
       "    </tr>\n",
       "    <tr>\n",
       "      <th>3</th>\n",
       "      <td>Zimmer</td>\n",
       "      <td>NexGen GS LPS - Flex</td>\n",
       "      <td>Right, Size F</td>\n",
       "      <td>65.3</td>\n",
       "      <td>NexGen</td>\n",
       "      <td>Size 3, PreCoat Stemmed</td>\n",
       "      <td>66.0</td>\n",
       "      <td>NexGen All-Poly Patella</td>\n",
       "      <td>32mm, 8.5mm Thickness</td>\n",
       "      <td>NexGen LPS-Flex Fixed Molded Articular Surface</td>\n",
       "      <td>...</td>\n",
       "      <td>0.0</td>\n",
       "      <td>124.46</td>\n",
       "      <td>68.64</td>\n",
       "      <td>44.311625</td>\n",
       "      <td>Right</td>\n",
       "      <td>Primary TKR</td>\n",
       "      <td>Degenerative Arthritis</td>\n",
       "      <td>II</td>\n",
       "      <td>Medial Parapatellar</td>\n",
       "      <td>NaN</td>\n",
       "    </tr>\n",
       "    <tr>\n",
       "      <th>4</th>\n",
       "      <td>Zimmer</td>\n",
       "      <td>Persona CR</td>\n",
       "      <td>CR, Narrow, Size 7, Left</td>\n",
       "      <td>60.8</td>\n",
       "      <td>Persona</td>\n",
       "      <td>Size D, Left, 5 Degree, NP STM</td>\n",
       "      <td>67.0</td>\n",
       "      <td>Persona</td>\n",
       "      <td>All poly, 32mm</td>\n",
       "      <td>Persona CR</td>\n",
       "      <td>...</td>\n",
       "      <td>0.0</td>\n",
       "      <td>121.92</td>\n",
       "      <td>75.00</td>\n",
       "      <td>50.455830</td>\n",
       "      <td>Left</td>\n",
       "      <td>Primary TKR</td>\n",
       "      <td>Degenerative Arthritis</td>\n",
       "      <td>III</td>\n",
       "      <td>MIS-Midvastus</td>\n",
       "      <td>NaN</td>\n",
       "    </tr>\n",
       "  </tbody>\n",
       "</table>\n",
       "<p>5 rows × 23 columns</p>\n",
       "</div>"
      ],
      "text/plain": [
       "  Procedure_TKR2.F_Company Procedure_TKR2.F_Model  \\\n",
       "0                   Zimmer                Persona   \n",
       "1                   Zimmer      NexGen LPS Option   \n",
       "2                   Zimmer   NexGen GS LPS - Flex   \n",
       "3                   Zimmer   NexGen GS LPS - Flex   \n",
       "4                   Zimmer             Persona CR   \n",
       "\n",
       "               Procedure_TKR2.F_Details  Femur AP Dimension (mm)  \\\n",
       "0  Size 6, Left, Cemented, PS, Standard                     60.4   \n",
       "1                          Left, Size C                     53.5   \n",
       "2                          Left, Size D                     57.5   \n",
       "3                         Right, Size F                     65.3   \n",
       "4              CR, Narrow, Size 7, Left                     60.8   \n",
       "\n",
       "  Procedure_TKR2.T_Model                      Procedure_TKR2.T_Details  \\\n",
       "0                Persona                   Size C, Left, 5 Degree, STM   \n",
       "1                 NexGen  Micro/1, 40mm A/P, 58mm M/L, Precoat Stemmed   \n",
       "2                 NexGen                       Size 3, PreCoat Stemmed   \n",
       "3                 NexGen                       Size 3, PreCoat Stemmed   \n",
       "4                Persona                Size D, Left, 5 Degree, NP STM   \n",
       "\n",
       "   Tibia ML Dimension (mm) Procedure_TKR2.Pat_Model  \\\n",
       "0                     63.8                  Persona   \n",
       "1                     58.0                      NaN   \n",
       "2                     66.0  NexGen All-Poly Patella   \n",
       "3                     66.0  NexGen All-Poly Patella   \n",
       "4                     67.0                  Persona   \n",
       "\n",
       "  Procedure_TKR2.Pat_Details                       Procedure_TKR2.Poly_Model  \\\n",
       "0             All poly, 35mm                                         Persona   \n",
       "1                        NaN                                             NaN   \n",
       "2      32mm, 8.5mm Thickness  NexGen LPS-Flex Fixed Molded Articular Surface   \n",
       "3      32mm, 8.5mm Thickness  NexGen LPS-Flex Fixed Molded Articular Surface   \n",
       "4             All poly, 32mm                                      Persona CR   \n",
       "\n",
       "   ... Demographics.Gender (0=Female, 1=Male) Procedure_TKR.Height_cm  \\\n",
       "0  ...                                    0.0                   60.00   \n",
       "1  ...                                    0.0                  116.84   \n",
       "2  ...                                    0.0                  127.00   \n",
       "3  ...                                    0.0                  124.46   \n",
       "4  ...                                    0.0                  121.92   \n",
       "\n",
       "  Procedure_TKR.Weight_kg  Procedure_TKR.BMI  Surgery_Main.Side  \\\n",
       "0                   58.64         162.888889               Left   \n",
       "1                   62.20          45.562473               Left   \n",
       "2                   52.00          32.240064               Left   \n",
       "3                   68.64          44.311625              Right   \n",
       "4                   75.00          50.455830               Left   \n",
       "\n",
       "   Surgery_Main.Procedure  Procedure_TKR.Primary_Diagnosis  \\\n",
       "0             Primary TKR           Degenerative Arthritis   \n",
       "1             Primary TKR                              NaN   \n",
       "2             Primary TKR           Degenerative Arthritis   \n",
       "3             Primary TKR           Degenerative Arthritis   \n",
       "4             Primary TKR           Degenerative Arthritis   \n",
       "\n",
       "  Procedure_TKR.ASARisk Procedure_TKR.Approach Unnamed: 22  \n",
       "0                    II    Medial Parapatellar         NaN  \n",
       "1                   III    Medial Parapatellar         NaN  \n",
       "2                   III          MIS-Midvastus         NaN  \n",
       "3                    II    Medial Parapatellar         NaN  \n",
       "4                   III          MIS-Midvastus         NaN  \n",
       "\n",
       "[5 rows x 23 columns]"
      ]
     },
     "execution_count": 5,
     "metadata": {},
     "output_type": "execute_result"
    }
   ],
   "source": [
    "# Display the first 5 rows of the training data\n",
    "tka_train.head()"
   ]
  },
  {
   "cell_type": "code",
   "execution_count": 6,
   "metadata": {},
   "outputs": [
    {
     "data": {
      "text/html": [
       "<div>\n",
       "<style scoped>\n",
       "    .dataframe tbody tr th:only-of-type {\n",
       "        vertical-align: middle;\n",
       "    }\n",
       "\n",
       "    .dataframe tbody tr th {\n",
       "        vertical-align: top;\n",
       "    }\n",
       "\n",
       "    .dataframe thead th {\n",
       "        text-align: right;\n",
       "    }\n",
       "</style>\n",
       "<table border=\"1\" class=\"dataframe\">\n",
       "  <thead>\n",
       "    <tr style=\"text-align: right;\">\n",
       "      <th></th>\n",
       "      <th>age</th>\n",
       "      <th>right</th>\n",
       "      <th>Demographics.Gender (0=Female, 1=Male)</th>\n",
       "      <th>Procedure_TKR.BMI</th>\n",
       "      <th>Procedure_TKR.Weight_kg</th>\n",
       "      <th>Procedure_TKR.Height_cm</th>\n",
       "      <th>Femoral Model</th>\n",
       "      <th>Femur implanted</th>\n",
       "      <th>Tibial Model</th>\n",
       "      <th>Tibia Implanted</th>\n",
       "    </tr>\n",
       "  </thead>\n",
       "  <tbody>\n",
       "    <tr>\n",
       "      <th>0</th>\n",
       "      <td>59.0</td>\n",
       "      <td>1</td>\n",
       "      <td>0.0</td>\n",
       "      <td>30.13</td>\n",
       "      <td>95.3</td>\n",
       "      <td>177.8</td>\n",
       "      <td>SN Legion Size 6</td>\n",
       "      <td>66.0</td>\n",
       "      <td>Genesis II size 5</td>\n",
       "      <td>74.0</td>\n",
       "    </tr>\n",
       "    <tr>\n",
       "      <th>1</th>\n",
       "      <td>42.0</td>\n",
       "      <td>0</td>\n",
       "      <td>1.0</td>\n",
       "      <td>32.49</td>\n",
       "      <td>100.2</td>\n",
       "      <td>173.2</td>\n",
       "      <td>SN Legion Size 7</td>\n",
       "      <td>70.0</td>\n",
       "      <td>Genesis II size 6</td>\n",
       "      <td>77.0</td>\n",
       "    </tr>\n",
       "    <tr>\n",
       "      <th>2</th>\n",
       "      <td>71.0</td>\n",
       "      <td>0</td>\n",
       "      <td>0.0</td>\n",
       "      <td>34.00</td>\n",
       "      <td>98.4</td>\n",
       "      <td>170.2</td>\n",
       "      <td>Stryker Triathlon Femoral 5</td>\n",
       "      <td>65.0</td>\n",
       "      <td>Stryker Triathlon Tibial 5</td>\n",
       "      <td>74.0</td>\n",
       "    </tr>\n",
       "    <tr>\n",
       "      <th>3</th>\n",
       "      <td>83.0</td>\n",
       "      <td>0</td>\n",
       "      <td>0.0</td>\n",
       "      <td>24.27</td>\n",
       "      <td>62.1</td>\n",
       "      <td>160.0</td>\n",
       "      <td>SN Legion Size 4</td>\n",
       "      <td>59.0</td>\n",
       "      <td>Genesis II size 2</td>\n",
       "      <td>64.0</td>\n",
       "    </tr>\n",
       "    <tr>\n",
       "      <th>4</th>\n",
       "      <td>56.0</td>\n",
       "      <td>1</td>\n",
       "      <td>1.0</td>\n",
       "      <td>49.51</td>\n",
       "      <td>161.0</td>\n",
       "      <td>180.3</td>\n",
       "      <td>Stryker Triathlon Femoral 8</td>\n",
       "      <td>75.0</td>\n",
       "      <td>Stryker Triathlon Tibial 7</td>\n",
       "      <td>80.0</td>\n",
       "    </tr>\n",
       "  </tbody>\n",
       "</table>\n",
       "</div>"
      ],
      "text/plain": [
       "    age right  Demographics.Gender (0=Female, 1=Male)  Procedure_TKR.BMI  \\\n",
       "0  59.0     1                                     0.0              30.13   \n",
       "1  42.0     0                                     1.0              32.49   \n",
       "2  71.0     0                                     0.0              34.00   \n",
       "3  83.0     0                                     0.0              24.27   \n",
       "4  56.0     1                                     1.0              49.51   \n",
       "\n",
       "   Procedure_TKR.Weight_kg  Procedure_TKR.Height_cm  \\\n",
       "0                     95.3                    177.8   \n",
       "1                    100.2                    173.2   \n",
       "2                     98.4                    170.2   \n",
       "3                     62.1                    160.0   \n",
       "4                    161.0                    180.3   \n",
       "\n",
       "                 Femoral Model  Femur implanted                Tibial Model  \\\n",
       "0             SN Legion Size 6             66.0           Genesis II size 5   \n",
       "1             SN Legion Size 7             70.0           Genesis II size 6   \n",
       "2  Stryker Triathlon Femoral 5             65.0  Stryker Triathlon Tibial 5   \n",
       "3             SN Legion Size 4             59.0           Genesis II size 2   \n",
       "4  Stryker Triathlon Femoral 8             75.0  Stryker Triathlon Tibial 7   \n",
       "\n",
       "   Tibia Implanted  \n",
       "0             74.0  \n",
       "1             77.0  \n",
       "2             74.0  \n",
       "3             64.0  \n",
       "4             80.0  "
      ]
     },
     "execution_count": 6,
     "metadata": {},
     "output_type": "execute_result"
    }
   ],
   "source": [
    "# Display the first 5 rows of the testing data\n",
    "tka_test.head()"
   ]
  },
  {
   "cell_type": "code",
   "execution_count": 7,
   "metadata": {},
   "outputs": [
    {
     "data": {
      "text/plain": [
       "(3407, 23)"
      ]
     },
     "execution_count": 7,
     "metadata": {},
     "output_type": "execute_result"
    }
   ],
   "source": [
    "# Display the shape of the training data\n",
    "tka_train.shape"
   ]
  },
  {
   "cell_type": "code",
   "execution_count": 8,
   "metadata": {},
   "outputs": [
    {
     "data": {
      "text/plain": [
       "(513, 10)"
      ]
     },
     "execution_count": 8,
     "metadata": {},
     "output_type": "execute_result"
    }
   ],
   "source": [
    "# Display the shape of the testing data\n",
    "tka_test.shape"
   ]
  },
  {
   "cell_type": "markdown",
   "metadata": {},
   "source": [
    "### Column names"
   ]
  },
  {
   "cell_type": "code",
   "execution_count": 9,
   "metadata": {},
   "outputs": [
    {
     "data": {
      "text/plain": [
       "Index(['Procedure_TKR2.F_Company', 'Procedure_TKR2.F_Model',\n",
       "       'Procedure_TKR2.F_Details', 'Femur AP Dimension (mm)',\n",
       "       'Procedure_TKR2.T_Model', 'Procedure_TKR2.T_Details',\n",
       "       'Tibia ML Dimension (mm)', 'Procedure_TKR2.Pat_Model',\n",
       "       'Procedure_TKR2.Pat_Details', 'Procedure_TKR2.Poly_Model',\n",
       "       'Procedure_TKR2.Poly_Details', 'Procedure_TKR2.O1_Model',\n",
       "       'Procedure_TKR2.O1_Details', 'Demographics.Gender (0=Female, 1=Male)',\n",
       "       'Procedure_TKR.Height_cm', 'Procedure_TKR.Weight_kg',\n",
       "       'Procedure_TKR.BMI', 'Surgery_Main.Side', 'Surgery_Main.Procedure',\n",
       "       'Procedure_TKR.Primary_Diagnosis', 'Procedure_TKR.ASARisk',\n",
       "       'Procedure_TKR.Approach', 'Unnamed: 22'],\n",
       "      dtype='object')"
      ]
     },
     "execution_count": 9,
     "metadata": {},
     "output_type": "execute_result"
    }
   ],
   "source": [
    "# Print the columns of the training data\n",
    "tka_train.columns"
   ]
  },
  {
   "cell_type": "code",
   "execution_count": 10,
   "metadata": {},
   "outputs": [
    {
     "data": {
      "text/plain": [
       "Index(['age', 'right', 'Demographics.Gender (0=Female, 1=Male)',\n",
       "       'Procedure_TKR.BMI', 'Procedure_TKR.Weight_kg',\n",
       "       'Procedure_TKR.Height_cm', 'Femoral Model', 'Femur implanted',\n",
       "       'Tibial Model', 'Tibia Implanted'],\n",
       "      dtype='object')"
      ]
     },
     "execution_count": 10,
     "metadata": {},
     "output_type": "execute_result"
    }
   ],
   "source": [
    "# Print the columns of the testing data\n",
    "tka_test.columns"
   ]
  },
  {
   "cell_type": "markdown",
   "metadata": {},
   "source": [
    "### Data types"
   ]
  },
  {
   "cell_type": "code",
   "execution_count": 11,
   "metadata": {},
   "outputs": [
    {
     "data": {
      "text/plain": [
       "Procedure_TKR2.F_Company                   object\n",
       "Procedure_TKR2.F_Model                     object\n",
       "Procedure_TKR2.F_Details                   object\n",
       "Femur AP Dimension (mm)                   float64\n",
       "Procedure_TKR2.T_Model                     object\n",
       "Procedure_TKR2.T_Details                   object\n",
       "Tibia ML Dimension (mm)                   float64\n",
       "Procedure_TKR2.Pat_Model                   object\n",
       "Procedure_TKR2.Pat_Details                 object\n",
       "Procedure_TKR2.Poly_Model                  object\n",
       "Procedure_TKR2.Poly_Details                object\n",
       "Procedure_TKR2.O1_Model                    object\n",
       "Procedure_TKR2.O1_Details                  object\n",
       "Demographics.Gender (0=Female, 1=Male)    float64\n",
       "Procedure_TKR.Height_cm                   float64\n",
       "Procedure_TKR.Weight_kg                   float64\n",
       "Procedure_TKR.BMI                         float64\n",
       "Surgery_Main.Side                          object\n",
       "Surgery_Main.Procedure                     object\n",
       "Procedure_TKR.Primary_Diagnosis            object\n",
       "Procedure_TKR.ASARisk                      object\n",
       "Procedure_TKR.Approach                     object\n",
       "Unnamed: 22                                object\n",
       "dtype: object"
      ]
     },
     "execution_count": 11,
     "metadata": {},
     "output_type": "execute_result"
    }
   ],
   "source": [
    "# Display the data types of the training data\n",
    "tka_train.dtypes"
   ]
  },
  {
   "cell_type": "code",
   "execution_count": 12,
   "metadata": {},
   "outputs": [
    {
     "data": {
      "text/plain": [
       "age                                       float64\n",
       "right                                      object\n",
       "Demographics.Gender (0=Female, 1=Male)    float64\n",
       "Procedure_TKR.BMI                         float64\n",
       "Procedure_TKR.Weight_kg                   float64\n",
       "Procedure_TKR.Height_cm                   float64\n",
       "Femoral Model                              object\n",
       "Femur implanted                           float64\n",
       "Tibial Model                               object\n",
       "Tibia Implanted                           float64\n",
       "dtype: object"
      ]
     },
     "execution_count": 12,
     "metadata": {},
     "output_type": "execute_result"
    }
   ],
   "source": [
    "# Display the data types of the testing data\n",
    "tka_test.dtypes"
   ]
  },
  {
   "cell_type": "markdown",
   "metadata": {},
   "source": [
    "### Duplicates"
   ]
  },
  {
   "cell_type": "code",
   "execution_count": 13,
   "metadata": {},
   "outputs": [
    {
     "data": {
      "text/plain": [
       "10"
      ]
     },
     "execution_count": 13,
     "metadata": {},
     "output_type": "execute_result"
    }
   ],
   "source": [
    "# Check for duplicates in the training data\n",
    "tka_train.duplicated().sum()"
   ]
  },
  {
   "cell_type": "code",
   "execution_count": 14,
   "metadata": {},
   "outputs": [
    {
     "data": {
      "text/plain": [
       "17"
      ]
     },
     "execution_count": 14,
     "metadata": {},
     "output_type": "execute_result"
    }
   ],
   "source": [
    "# Check for duplicates in the testing data\n",
    "tka_test.duplicated().sum()"
   ]
  },
  {
   "cell_type": "markdown",
   "metadata": {},
   "source": [
    "### Missing values"
   ]
  },
  {
   "cell_type": "code",
   "execution_count": 15,
   "metadata": {},
   "outputs": [
    {
     "data": {
      "text/plain": [
       "Procedure_TKR2.F_Company                     5\n",
       "Procedure_TKR2.F_Model                       9\n",
       "Procedure_TKR2.F_Details                    11\n",
       "Femur AP Dimension (mm)                     18\n",
       "Procedure_TKR2.T_Model                      11\n",
       "Procedure_TKR2.T_Details                    15\n",
       "Tibia ML Dimension (mm)                     23\n",
       "Procedure_TKR2.Pat_Model                    26\n",
       "Procedure_TKR2.Pat_Details                  26\n",
       "Procedure_TKR2.Poly_Model                   12\n",
       "Procedure_TKR2.Poly_Details                 11\n",
       "Procedure_TKR2.O1_Model                   2898\n",
       "Procedure_TKR2.O1_Details                 2898\n",
       "Demographics.Gender (0=Female, 1=Male)       7\n",
       "Procedure_TKR.Height_cm                     14\n",
       "Procedure_TKR.Weight_kg                      8\n",
       "Procedure_TKR.BMI                           22\n",
       "Surgery_Main.Side                            5\n",
       "Surgery_Main.Procedure                       5\n",
       "Procedure_TKR.Primary_Diagnosis             22\n",
       "Procedure_TKR.ASARisk                       13\n",
       "Procedure_TKR.Approach                      29\n",
       "Unnamed: 22                               3214\n",
       "dtype: int64"
      ]
     },
     "execution_count": 15,
     "metadata": {},
     "output_type": "execute_result"
    }
   ],
   "source": [
    "# Check for missing values in the training data\n",
    "tka_train.isnull().sum()"
   ]
  },
  {
   "cell_type": "code",
   "execution_count": 16,
   "metadata": {},
   "outputs": [
    {
     "data": {
      "text/plain": [
       "age                                       18\n",
       "right                                     17\n",
       "Demographics.Gender (0=Female, 1=Male)    17\n",
       "Procedure_TKR.BMI                         23\n",
       "Procedure_TKR.Weight_kg                   22\n",
       "Procedure_TKR.Height_cm                   22\n",
       "Femoral Model                             22\n",
       "Femur implanted                           22\n",
       "Tibial Model                              22\n",
       "Tibia Implanted                           25\n",
       "dtype: int64"
      ]
     },
     "execution_count": 16,
     "metadata": {},
     "output_type": "execute_result"
    }
   ],
   "source": [
    "# Check for missing values in the testing data\n",
    "tka_test.isnull().sum()"
   ]
  },
  {
   "cell_type": "code",
   "execution_count": 17,
   "metadata": {},
   "outputs": [
    {
     "data": {
      "image/png": "[encoded data removed]",
      "text/plain": [
       "<Figure size 2500x1000 with 2 Axes>"
      ]
     },
     "metadata": {},
     "output_type": "display_data"
    }
   ],
   "source": [
    "# Visualize missing values in the training data\n",
    "msno.matrix(tka_train);"
   ]
  },
  {
   "cell_type": "code",
   "execution_count": 18,
   "metadata": {},
   "outputs": [
    {
     "data": {
      "image/png": "[encoded data removed]",
      "text/plain": [
       "<Figure size 2500x1000 with 2 Axes>"
      ]
     },
     "metadata": {},
     "output_type": "display_data"
    }
   ],
   "source": [
    "# Visualize missing values in the testing data\n",
    "msno.matrix(tka_test);"
   ]
  },
  {
   "cell_type": "markdown",
   "metadata": {},
   "source": [
    "## Clean"
   ]
  },
  {
   "cell_type": "markdown",
   "metadata": {},
   "source": [
    "### Demographic Variables"
   ]
  },
  {
   "cell_type": "code",
   "execution_count": 19,
   "metadata": {},
   "outputs": [],
   "source": [
    "# Select only the demographic features from the dataset and the target.\n",
    "train_features = ['Demographics.Gender (0=Female, 1=Male)',\n",
    "                  'Procedure_TKR.Height_cm', \n",
    "                  'Procedure_TKR.Weight_kg',\n",
    "                  'Procedure_TKR.BMI', \n",
    "                  'Surgery_Main.Side', \n",
    "                  'Femur AP Dimension (mm)', \n",
    "                  'Tibia ML Dimension (mm)',]\n",
    "\n",
    "test_features = ['Demographics.Gender (0=Female, 1=Male)', \n",
    "                 'Procedure_TKR.Height_cm',\n",
    "                 'Procedure_TKR.Weight_kg',\n",
    "                 'Procedure_TKR.BMI', \n",
    "                 'right',\n",
    "                 'Femur implanted',\n",
    "                 'Tibia Implanted']"
   ]
  },
  {
   "cell_type": "code",
   "execution_count": 20,
   "metadata": {},
   "outputs": [],
   "source": [
    "train_df = tka_train[train_features]\n",
    "test_df = tka_test[test_features]"
   ]
  },
  {
   "cell_type": "code",
   "execution_count": 21,
   "metadata": {},
   "outputs": [
    {
     "data": {
      "text/html": [
       "<div>\n",
       "<style scoped>\n",
       "    .dataframe tbody tr th:only-of-type {\n",
       "        vertical-align: middle;\n",
       "    }\n",
       "\n",
       "    .dataframe tbody tr th {\n",
       "        vertical-align: top;\n",
       "    }\n",
       "\n",
       "    .dataframe thead th {\n",
       "        text-align: right;\n",
       "    }\n",
       "</style>\n",
       "<table border=\"1\" class=\"dataframe\">\n",
       "  <thead>\n",
       "    <tr style=\"text-align: right;\">\n",
       "      <th></th>\n",
       "      <th>Demographics.Gender (0=Female, 1=Male)</th>\n",
       "      <th>Procedure_TKR.Height_cm</th>\n",
       "      <th>Procedure_TKR.Weight_kg</th>\n",
       "      <th>Procedure_TKR.BMI</th>\n",
       "      <th>Surgery_Main.Side</th>\n",
       "      <th>Femur AP Dimension (mm)</th>\n",
       "      <th>Tibia ML Dimension (mm)</th>\n",
       "    </tr>\n",
       "  </thead>\n",
       "  <tbody>\n",
       "    <tr>\n",
       "      <th>0</th>\n",
       "      <td>0.0</td>\n",
       "      <td>60.00</td>\n",
       "      <td>58.64</td>\n",
       "      <td>162.888889</td>\n",
       "      <td>Left</td>\n",
       "      <td>60.4</td>\n",
       "      <td>63.8</td>\n",
       "    </tr>\n",
       "    <tr>\n",
       "      <th>1</th>\n",
       "      <td>0.0</td>\n",
       "      <td>116.84</td>\n",
       "      <td>62.20</td>\n",
       "      <td>45.562473</td>\n",
       "      <td>Left</td>\n",
       "      <td>53.5</td>\n",
       "      <td>58.0</td>\n",
       "    </tr>\n",
       "    <tr>\n",
       "      <th>2</th>\n",
       "      <td>0.0</td>\n",
       "      <td>127.00</td>\n",
       "      <td>52.00</td>\n",
       "      <td>32.240064</td>\n",
       "      <td>Left</td>\n",
       "      <td>57.5</td>\n",
       "      <td>66.0</td>\n",
       "    </tr>\n",
       "    <tr>\n",
       "      <th>3</th>\n",
       "      <td>0.0</td>\n",
       "      <td>124.46</td>\n",
       "      <td>68.64</td>\n",
       "      <td>44.311625</td>\n",
       "      <td>Right</td>\n",
       "      <td>65.3</td>\n",
       "      <td>66.0</td>\n",
       "    </tr>\n",
       "    <tr>\n",
       "      <th>4</th>\n",
       "      <td>0.0</td>\n",
       "      <td>121.92</td>\n",
       "      <td>75.00</td>\n",
       "      <td>50.455830</td>\n",
       "      <td>Left</td>\n",
       "      <td>60.8</td>\n",
       "      <td>67.0</td>\n",
       "    </tr>\n",
       "  </tbody>\n",
       "</table>\n",
       "</div>"
      ],
      "text/plain": [
       "   Demographics.Gender (0=Female, 1=Male)  Procedure_TKR.Height_cm  \\\n",
       "0                                     0.0                    60.00   \n",
       "1                                     0.0                   116.84   \n",
       "2                                     0.0                   127.00   \n",
       "3                                     0.0                   124.46   \n",
       "4                                     0.0                   121.92   \n",
       "\n",
       "   Procedure_TKR.Weight_kg  Procedure_TKR.BMI Surgery_Main.Side  \\\n",
       "0                    58.64         162.888889              Left   \n",
       "1                    62.20          45.562473              Left   \n",
       "2                    52.00          32.240064              Left   \n",
       "3                    68.64          44.311625             Right   \n",
       "4                    75.00          50.455830              Left   \n",
       "\n",
       "   Femur AP Dimension (mm)  Tibia ML Dimension (mm)  \n",
       "0                     60.4                     63.8  \n",
       "1                     53.5                     58.0  \n",
       "2                     57.5                     66.0  \n",
       "3                     65.3                     66.0  \n",
       "4                     60.8                     67.0  "
      ]
     },
     "execution_count": 21,
     "metadata": {},
     "output_type": "execute_result"
    }
   ],
   "source": [
    "# Display the first 5 rows of the training data\n",
    "train_df.head()"
   ]
  },
  {
   "cell_type": "code",
   "execution_count": 22,
   "metadata": {},
   "outputs": [
    {
     "data": {
      "text/html": [
       "<div>\n",
       "<style scoped>\n",
       "    .dataframe tbody tr th:only-of-type {\n",
       "        vertical-align: middle;\n",
       "    }\n",
       "\n",
       "    .dataframe tbody tr th {\n",
       "        vertical-align: top;\n",
       "    }\n",
       "\n",
       "    .dataframe thead th {\n",
       "        text-align: right;\n",
       "    }\n",
       "</style>\n",
       "<table border=\"1\" class=\"dataframe\">\n",
       "  <thead>\n",
       "    <tr style=\"text-align: right;\">\n",
       "      <th></th>\n",
       "      <th>Demographics.Gender (0=Female, 1=Male)</th>\n",
       "      <th>Procedure_TKR.Height_cm</th>\n",
       "      <th>Procedure_TKR.Weight_kg</th>\n",
       "      <th>Procedure_TKR.BMI</th>\n",
       "      <th>right</th>\n",
       "      <th>Femur implanted</th>\n",
       "      <th>Tibia Implanted</th>\n",
       "    </tr>\n",
       "  </thead>\n",
       "  <tbody>\n",
       "    <tr>\n",
       "      <th>0</th>\n",
       "      <td>0.0</td>\n",
       "      <td>177.8</td>\n",
       "      <td>95.3</td>\n",
       "      <td>30.13</td>\n",
       "      <td>1</td>\n",
       "      <td>66.0</td>\n",
       "      <td>74.0</td>\n",
       "    </tr>\n",
       "    <tr>\n",
       "      <th>1</th>\n",
       "      <td>1.0</td>\n",
       "      <td>173.2</td>\n",
       "      <td>100.2</td>\n",
       "      <td>32.49</td>\n",
       "      <td>0</td>\n",
       "      <td>70.0</td>\n",
       "      <td>77.0</td>\n",
       "    </tr>\n",
       "    <tr>\n",
       "      <th>2</th>\n",
       "      <td>0.0</td>\n",
       "      <td>170.2</td>\n",
       "      <td>98.4</td>\n",
       "      <td>34.00</td>\n",
       "      <td>0</td>\n",
       "      <td>65.0</td>\n",
       "      <td>74.0</td>\n",
       "    </tr>\n",
       "    <tr>\n",
       "      <th>3</th>\n",
       "      <td>0.0</td>\n",
       "      <td>160.0</td>\n",
       "      <td>62.1</td>\n",
       "      <td>24.27</td>\n",
       "      <td>0</td>\n",
       "      <td>59.0</td>\n",
       "      <td>64.0</td>\n",
       "    </tr>\n",
       "    <tr>\n",
       "      <th>4</th>\n",
       "      <td>1.0</td>\n",
       "      <td>180.3</td>\n",
       "      <td>161.0</td>\n",
       "      <td>49.51</td>\n",
       "      <td>1</td>\n",
       "      <td>75.0</td>\n",
       "      <td>80.0</td>\n",
       "    </tr>\n",
       "  </tbody>\n",
       "</table>\n",
       "</div>"
      ],
      "text/plain": [
       "   Demographics.Gender (0=Female, 1=Male)  Procedure_TKR.Height_cm  \\\n",
       "0                                     0.0                    177.8   \n",
       "1                                     1.0                    173.2   \n",
       "2                                     0.0                    170.2   \n",
       "3                                     0.0                    160.0   \n",
       "4                                     1.0                    180.3   \n",
       "\n",
       "   Procedure_TKR.Weight_kg  Procedure_TKR.BMI right  Femur implanted  \\\n",
       "0                     95.3              30.13     1             66.0   \n",
       "1                    100.2              32.49     0             70.0   \n",
       "2                     98.4              34.00     0             65.0   \n",
       "3                     62.1              24.27     0             59.0   \n",
       "4                    161.0              49.51     1             75.0   \n",
       "\n",
       "   Tibia Implanted  \n",
       "0             74.0  \n",
       "1             77.0  \n",
       "2             74.0  \n",
       "3             64.0  \n",
       "4             80.0  "
      ]
     },
     "execution_count": 22,
     "metadata": {},
     "output_type": "execute_result"
    }
   ],
   "source": [
    "# Display the first 5 rows of the testing data\n",
    "test_df.head()"
   ]
  },
  {
   "cell_type": "markdown",
   "metadata": {},
   "source": [
    "### Column names"
   ]
  },
  {
   "cell_type": "code",
   "execution_count": 23,
   "metadata": {},
   "outputs": [],
   "source": [
    "train_df = train_df.rename(columns={'Demographics.Gender (0=Female, 1=Male)': 'gender',\n",
    "                                    'Procedure_TKR.Height_cm': 'height_cm',\n",
    "                                    'Procedure_TKR.Weight_kg': 'weight_kg',\n",
    "                                    'Procedure_TKR.BMI': 'bmi',\n",
    "                                    'Surgery_Main.Side': 'surgery_side',\n",
    "                                    'Femur AP Dimension (mm)': 'femur_dim',\n",
    "                                    'Tibia ML Dimension (mm)': 'tibia_dim'})\n",
    "\n",
    "test_df = test_df.rename(columns={'Demographics.Gender (0=Female, 1=Male)': 'gender',\n",
    "                                  'Procedure_TKR.Height_cm': 'height_cm',\n",
    "                                  'Procedure_TKR.Weight_kg': 'weight_kg',\n",
    "                                  'Procedure_TKR.BMI': 'bmi',\n",
    "                                  'right': 'surgery_side',\n",
    "                                  'Femur implanted': 'femur_dim',\n",
    "                                  'Tibia Implanted': 'tibia_dim'})"
   ]
  },
  {
   "cell_type": "code",
   "execution_count": 24,
   "metadata": {},
   "outputs": [
    {
     "data": {
      "text/html": [
       "<div>\n",
       "<style scoped>\n",
       "    .dataframe tbody tr th:only-of-type {\n",
       "        vertical-align: middle;\n",
       "    }\n",
       "\n",
       "    .dataframe tbody tr th {\n",
       "        vertical-align: top;\n",
       "    }\n",
       "\n",
       "    .dataframe thead th {\n",
       "        text-align: right;\n",
       "    }\n",
       "</style>\n",
       "<table border=\"1\" class=\"dataframe\">\n",
       "  <thead>\n",
       "    <tr style=\"text-align: right;\">\n",
       "      <th></th>\n",
       "      <th>gender</th>\n",
       "      <th>height_cm</th>\n",
       "      <th>weight_kg</th>\n",
       "      <th>bmi</th>\n",
       "      <th>surgery_side</th>\n",
       "      <th>femur_dim</th>\n",
       "      <th>tibia_dim</th>\n",
       "    </tr>\n",
       "  </thead>\n",
       "  <tbody>\n",
       "    <tr>\n",
       "      <th>0</th>\n",
       "      <td>0.0</td>\n",
       "      <td>60.00</td>\n",
       "      <td>58.64</td>\n",
       "      <td>162.888889</td>\n",
       "      <td>Left</td>\n",
       "      <td>60.4</td>\n",
       "      <td>63.8</td>\n",
       "    </tr>\n",
       "    <tr>\n",
       "      <th>1</th>\n",
       "      <td>0.0</td>\n",
       "      <td>116.84</td>\n",
       "      <td>62.20</td>\n",
       "      <td>45.562473</td>\n",
       "      <td>Left</td>\n",
       "      <td>53.5</td>\n",
       "      <td>58.0</td>\n",
       "    </tr>\n",
       "    <tr>\n",
       "      <th>2</th>\n",
       "      <td>0.0</td>\n",
       "      <td>127.00</td>\n",
       "      <td>52.00</td>\n",
       "      <td>32.240064</td>\n",
       "      <td>Left</td>\n",
       "      <td>57.5</td>\n",
       "      <td>66.0</td>\n",
       "    </tr>\n",
       "    <tr>\n",
       "      <th>3</th>\n",
       "      <td>0.0</td>\n",
       "      <td>124.46</td>\n",
       "      <td>68.64</td>\n",
       "      <td>44.311625</td>\n",
       "      <td>Right</td>\n",
       "      <td>65.3</td>\n",
       "      <td>66.0</td>\n",
       "    </tr>\n",
       "    <tr>\n",
       "      <th>4</th>\n",
       "      <td>0.0</td>\n",
       "      <td>121.92</td>\n",
       "      <td>75.00</td>\n",
       "      <td>50.455830</td>\n",
       "      <td>Left</td>\n",
       "      <td>60.8</td>\n",
       "      <td>67.0</td>\n",
       "    </tr>\n",
       "  </tbody>\n",
       "</table>\n",
       "</div>"
      ],
      "text/plain": [
       "   gender  height_cm  weight_kg         bmi surgery_side  femur_dim  tibia_dim\n",
       "0     0.0      60.00      58.64  162.888889         Left       60.4       63.8\n",
       "1     0.0     116.84      62.20   45.562473         Left       53.5       58.0\n",
       "2     0.0     127.00      52.00   32.240064         Left       57.5       66.0\n",
       "3     0.0     124.46      68.64   44.311625        Right       65.3       66.0\n",
       "4     0.0     121.92      75.00   50.455830         Left       60.8       67.0"
      ]
     },
     "execution_count": 24,
     "metadata": {},
     "output_type": "execute_result"
    }
   ],
   "source": [
    "# Display the first 5 rows of the training data\n",
    "train_df.head()"
   ]
  },
  {
   "cell_type": "code",
   "execution_count": 25,
   "metadata": {},
   "outputs": [
    {
     "data": {
      "text/html": [
       "<div>\n",
       "<style scoped>\n",
       "    .dataframe tbody tr th:only-of-type {\n",
       "        vertical-align: middle;\n",
       "    }\n",
       "\n",
       "    .dataframe tbody tr th {\n",
       "        vertical-align: top;\n",
       "    }\n",
       "\n",
       "    .dataframe thead th {\n",
       "        text-align: right;\n",
       "    }\n",
       "</style>\n",
       "<table border=\"1\" class=\"dataframe\">\n",
       "  <thead>\n",
       "    <tr style=\"text-align: right;\">\n",
       "      <th></th>\n",
       "      <th>gender</th>\n",
       "      <th>height_cm</th>\n",
       "      <th>weight_kg</th>\n",
       "      <th>bmi</th>\n",
       "      <th>surgery_side</th>\n",
       "      <th>femur_dim</th>\n",
       "      <th>tibia_dim</th>\n",
       "    </tr>\n",
       "  </thead>\n",
       "  <tbody>\n",
       "    <tr>\n",
       "      <th>0</th>\n",
       "      <td>0.0</td>\n",
       "      <td>177.8</td>\n",
       "      <td>95.3</td>\n",
       "      <td>30.13</td>\n",
       "      <td>1</td>\n",
       "      <td>66.0</td>\n",
       "      <td>74.0</td>\n",
       "    </tr>\n",
       "    <tr>\n",
       "      <th>1</th>\n",
       "      <td>1.0</td>\n",
       "      <td>173.2</td>\n",
       "      <td>100.2</td>\n",
       "      <td>32.49</td>\n",
       "      <td>0</td>\n",
       "      <td>70.0</td>\n",
       "      <td>77.0</td>\n",
       "    </tr>\n",
       "    <tr>\n",
       "      <th>2</th>\n",
       "      <td>0.0</td>\n",
       "      <td>170.2</td>\n",
       "      <td>98.4</td>\n",
       "      <td>34.00</td>\n",
       "      <td>0</td>\n",
       "      <td>65.0</td>\n",
       "      <td>74.0</td>\n",
       "    </tr>\n",
       "    <tr>\n",
       "      <th>3</th>\n",
       "      <td>0.0</td>\n",
       "      <td>160.0</td>\n",
       "      <td>62.1</td>\n",
       "      <td>24.27</td>\n",
       "      <td>0</td>\n",
       "      <td>59.0</td>\n",
       "      <td>64.0</td>\n",
       "    </tr>\n",
       "    <tr>\n",
       "      <th>4</th>\n",
       "      <td>1.0</td>\n",
       "      <td>180.3</td>\n",
       "      <td>161.0</td>\n",
       "      <td>49.51</td>\n",
       "      <td>1</td>\n",
       "      <td>75.0</td>\n",
       "      <td>80.0</td>\n",
       "    </tr>\n",
       "  </tbody>\n",
       "</table>\n",
       "</div>"
      ],
      "text/plain": [
       "   gender  height_cm  weight_kg    bmi surgery_side  femur_dim  tibia_dim\n",
       "0     0.0      177.8       95.3  30.13            1       66.0       74.0\n",
       "1     1.0      173.2      100.2  32.49            0       70.0       77.0\n",
       "2     0.0      170.2       98.4  34.00            0       65.0       74.0\n",
       "3     0.0      160.0       62.1  24.27            0       59.0       64.0\n",
       "4     1.0      180.3      161.0  49.51            1       75.0       80.0"
      ]
     },
     "execution_count": 25,
     "metadata": {},
     "output_type": "execute_result"
    }
   ],
   "source": [
    "# Display the first 5 rows of the testing data\n",
    "test_df.head()"
   ]
  },
  {
   "cell_type": "markdown",
   "metadata": {},
   "source": [
    "### Duplicates"
   ]
  },
  {
   "cell_type": "code",
   "execution_count": 26,
   "metadata": {},
   "outputs": [
    {
     "name": "stdout",
     "output_type": "stream",
     "text": [
      "Duplicates in training data: 0\n",
      "Duplicates in testing data: 0\n"
     ]
    }
   ],
   "source": [
    "# Drop duplicates from train and test sets\n",
    "train_df.drop_duplicates(inplace=True)\n",
    "test_df.drop_duplicates(inplace=True)\n",
    "\n",
    "# Check for duplicates in the training data\n",
    "print(f\"Duplicates in training data: {train_df.duplicated().sum()}\")\n",
    "\n",
    "# Check for duplicates in the testing data\n",
    "print(f\"Duplicates in testing data: {test_df.duplicated().sum()}\")"
   ]
  },
  {
   "cell_type": "markdown",
   "metadata": {},
   "source": [
    "### Outliers"
   ]
  },
  {
   "cell_type": "code",
   "execution_count": 27,
   "metadata": {},
   "outputs": [],
   "source": [
    "# Calculate z-score for each numeric column in the training data\n",
    "z_scores = (train_df.select_dtypes(include=np.number) - train_df.select_dtypes(include=np.number).mean()) / train_df.select_dtypes(include=np.number).std()\n",
    "\n",
    "# Remove rows with z-score greater than 3\n",
    "train_df = train_df[(z_scores.abs() < 3).all(axis=1)]\n",
    "\n",
    "# Calculate z-score for each numeric column in the testing data\n",
    "z_scores = (test_df.select_dtypes(include=np.number) - test_df.select_dtypes(include=np.number).mean()) / test_df.select_dtypes(include=np.number).std()\n",
    "\n",
    "# Remove rows with z-score greater than 3\n",
    "test_df = test_df[(z_scores.abs() < 3).all(axis=1)]"
   ]
  },
  {
   "cell_type": "code",
   "execution_count": 28,
   "metadata": {},
   "outputs": [
    {
     "name": "stdout",
     "output_type": "stream",
     "text": [
      "Training data shape: (3300, 7)\n",
      "Testing data shape: (476, 7)\n"
     ]
    }
   ],
   "source": [
    "# Display the shape of the training data using f strings\n",
    "print(f\"Training data shape: {train_df.shape}\")\n",
    "\n",
    "# Display the shape of the testing data using f strings\n",
    "print(f\"Testing data shape: {test_df.shape}\")\n"
   ]
  },
  {
   "cell_type": "code",
   "execution_count": 29,
   "metadata": {},
   "outputs": [
    {
     "data": {
      "text/html": [
       "<div>\n",
       "<style scoped>\n",
       "    .dataframe tbody tr th:only-of-type {\n",
       "        vertical-align: middle;\n",
       "    }\n",
       "\n",
       "    .dataframe tbody tr th {\n",
       "        vertical-align: top;\n",
       "    }\n",
       "\n",
       "    .dataframe thead th {\n",
       "        text-align: right;\n",
       "    }\n",
       "</style>\n",
       "<table border=\"1\" class=\"dataframe\">\n",
       "  <thead>\n",
       "    <tr style=\"text-align: right;\">\n",
       "      <th></th>\n",
       "      <th>gender</th>\n",
       "      <th>height_cm</th>\n",
       "      <th>weight_kg</th>\n",
       "      <th>bmi</th>\n",
       "      <th>surgery_side</th>\n",
       "      <th>femur_dim</th>\n",
       "      <th>tibia_dim</th>\n",
       "    </tr>\n",
       "  </thead>\n",
       "  <tbody>\n",
       "    <tr>\n",
       "      <th>1</th>\n",
       "      <td>0.0</td>\n",
       "      <td>116.84</td>\n",
       "      <td>62.20</td>\n",
       "      <td>45.562473</td>\n",
       "      <td>Left</td>\n",
       "      <td>53.5</td>\n",
       "      <td>58.0</td>\n",
       "    </tr>\n",
       "    <tr>\n",
       "      <th>2</th>\n",
       "      <td>0.0</td>\n",
       "      <td>127.00</td>\n",
       "      <td>52.00</td>\n",
       "      <td>32.240064</td>\n",
       "      <td>Left</td>\n",
       "      <td>57.5</td>\n",
       "      <td>66.0</td>\n",
       "    </tr>\n",
       "    <tr>\n",
       "      <th>3</th>\n",
       "      <td>0.0</td>\n",
       "      <td>124.46</td>\n",
       "      <td>68.64</td>\n",
       "      <td>44.311625</td>\n",
       "      <td>Right</td>\n",
       "      <td>65.3</td>\n",
       "      <td>66.0</td>\n",
       "    </tr>\n",
       "    <tr>\n",
       "      <th>4</th>\n",
       "      <td>0.0</td>\n",
       "      <td>121.92</td>\n",
       "      <td>75.00</td>\n",
       "      <td>50.455830</td>\n",
       "      <td>Left</td>\n",
       "      <td>60.8</td>\n",
       "      <td>67.0</td>\n",
       "    </tr>\n",
       "    <tr>\n",
       "      <th>5</th>\n",
       "      <td>0.0</td>\n",
       "      <td>127.00</td>\n",
       "      <td>72.73</td>\n",
       "      <td>45.092690</td>\n",
       "      <td>Right</td>\n",
       "      <td>59.0</td>\n",
       "      <td>63.8</td>\n",
       "    </tr>\n",
       "  </tbody>\n",
       "</table>\n",
       "</div>"
      ],
      "text/plain": [
       "   gender  height_cm  weight_kg        bmi surgery_side  femur_dim  tibia_dim\n",
       "1     0.0     116.84      62.20  45.562473         Left       53.5       58.0\n",
       "2     0.0     127.00      52.00  32.240064         Left       57.5       66.0\n",
       "3     0.0     124.46      68.64  44.311625        Right       65.3       66.0\n",
       "4     0.0     121.92      75.00  50.455830         Left       60.8       67.0\n",
       "5     0.0     127.00      72.73  45.092690        Right       59.0       63.8"
      ]
     },
     "execution_count": 29,
     "metadata": {},
     "output_type": "execute_result"
    }
   ],
   "source": [
    "train_df.head()"
   ]
  },
  {
   "cell_type": "code",
   "execution_count": 30,
   "metadata": {},
   "outputs": [
    {
     "data": {
      "text/html": [
       "<div>\n",
       "<style scoped>\n",
       "    .dataframe tbody tr th:only-of-type {\n",
       "        vertical-align: middle;\n",
       "    }\n",
       "\n",
       "    .dataframe tbody tr th {\n",
       "        vertical-align: top;\n",
       "    }\n",
       "\n",
       "    .dataframe thead th {\n",
       "        text-align: right;\n",
       "    }\n",
       "</style>\n",
       "<table border=\"1\" class=\"dataframe\">\n",
       "  <thead>\n",
       "    <tr style=\"text-align: right;\">\n",
       "      <th></th>\n",
       "      <th>gender</th>\n",
       "      <th>height_cm</th>\n",
       "      <th>weight_kg</th>\n",
       "      <th>bmi</th>\n",
       "      <th>surgery_side</th>\n",
       "      <th>femur_dim</th>\n",
       "      <th>tibia_dim</th>\n",
       "    </tr>\n",
       "  </thead>\n",
       "  <tbody>\n",
       "    <tr>\n",
       "      <th>0</th>\n",
       "      <td>0.0</td>\n",
       "      <td>177.8</td>\n",
       "      <td>95.3</td>\n",
       "      <td>30.13</td>\n",
       "      <td>1</td>\n",
       "      <td>66.0</td>\n",
       "      <td>74.0</td>\n",
       "    </tr>\n",
       "    <tr>\n",
       "      <th>1</th>\n",
       "      <td>1.0</td>\n",
       "      <td>173.2</td>\n",
       "      <td>100.2</td>\n",
       "      <td>32.49</td>\n",
       "      <td>0</td>\n",
       "      <td>70.0</td>\n",
       "      <td>77.0</td>\n",
       "    </tr>\n",
       "    <tr>\n",
       "      <th>2</th>\n",
       "      <td>0.0</td>\n",
       "      <td>170.2</td>\n",
       "      <td>98.4</td>\n",
       "      <td>34.00</td>\n",
       "      <td>0</td>\n",
       "      <td>65.0</td>\n",
       "      <td>74.0</td>\n",
       "    </tr>\n",
       "    <tr>\n",
       "      <th>3</th>\n",
       "      <td>0.0</td>\n",
       "      <td>160.0</td>\n",
       "      <td>62.1</td>\n",
       "      <td>24.27</td>\n",
       "      <td>0</td>\n",
       "      <td>59.0</td>\n",
       "      <td>64.0</td>\n",
       "    </tr>\n",
       "    <tr>\n",
       "      <th>4</th>\n",
       "      <td>1.0</td>\n",
       "      <td>180.3</td>\n",
       "      <td>161.0</td>\n",
       "      <td>49.51</td>\n",
       "      <td>1</td>\n",
       "      <td>75.0</td>\n",
       "      <td>80.0</td>\n",
       "    </tr>\n",
       "  </tbody>\n",
       "</table>\n",
       "</div>"
      ],
      "text/plain": [
       "   gender  height_cm  weight_kg    bmi surgery_side  femur_dim  tibia_dim\n",
       "0     0.0      177.8       95.3  30.13            1       66.0       74.0\n",
       "1     1.0      173.2      100.2  32.49            0       70.0       77.0\n",
       "2     0.0      170.2       98.4  34.00            0       65.0       74.0\n",
       "3     0.0      160.0       62.1  24.27            0       59.0       64.0\n",
       "4     1.0      180.3      161.0  49.51            1       75.0       80.0"
      ]
     },
     "execution_count": 30,
     "metadata": {},
     "output_type": "execute_result"
    }
   ],
   "source": [
    "test_df.head()"
   ]
  },
  {
   "cell_type": "markdown",
   "metadata": {},
   "source": [
    "### Missing values"
   ]
  },
  {
   "cell_type": "code",
   "execution_count": 31,
   "metadata": {},
   "outputs": [
    {
     "data": {
      "text/plain": [
       "gender          0\n",
       "height_cm       0\n",
       "weight_kg       0\n",
       "bmi             0\n",
       "surgery_side    0\n",
       "femur_dim       0\n",
       "tibia_dim       0\n",
       "dtype: int64"
      ]
     },
     "execution_count": 31,
     "metadata": {},
     "output_type": "execute_result"
    }
   ],
   "source": [
    "# Count null values in the training data\n",
    "train_df.isnull().sum()\n"
   ]
  },
  {
   "cell_type": "code",
   "execution_count": 32,
   "metadata": {},
   "outputs": [
    {
     "data": {
      "text/plain": [
       "gender          0\n",
       "height_cm       0\n",
       "weight_kg       0\n",
       "bmi             0\n",
       "surgery_side    0\n",
       "femur_dim       0\n",
       "tibia_dim       0\n",
       "dtype: int64"
      ]
     },
     "execution_count": 32,
     "metadata": {},
     "output_type": "execute_result"
    }
   ],
   "source": [
    "# Count null values in the testing data\n",
    "test_df.isnull().sum()"
   ]
  },
  {
   "cell_type": "markdown",
   "metadata": {},
   "source": [
    "### Data Values"
   ]
  },
  {
   "cell_type": "code",
   "execution_count": 33,
   "metadata": {},
   "outputs": [],
   "source": [
    "# Convert numeric variables to 2 decimal places in the training data\n",
    "train_df = train_df.round(2)\n",
    "\n",
    "# Convert numeric variables to 2 decimal places in the testing data\n",
    "test_df = test_df.round(2)\n"
   ]
  },
  {
   "cell_type": "markdown",
   "metadata": {},
   "source": [
    "### Data Types"
   ]
  },
  {
   "cell_type": "code",
   "execution_count": 34,
   "metadata": {},
   "outputs": [
    {
     "name": "stdout",
     "output_type": "stream",
     "text": [
      "gender          float64\n",
      "height_cm       float64\n",
      "weight_kg       float64\n",
      "bmi             float64\n",
      "surgery_side     object\n",
      "femur_dim       float64\n",
      "tibia_dim       float64\n",
      "dtype: object\n",
      "gender          float64\n",
      "height_cm       float64\n",
      "weight_kg       float64\n",
      "bmi             float64\n",
      "surgery_side     object\n",
      "femur_dim       float64\n",
      "tibia_dim       float64\n",
      "dtype: object\n"
     ]
    }
   ],
   "source": [
    "# Check data types of the training data\n",
    "print(train_df.dtypes)\n",
    "\n",
    "# Check data types of the testing data\n",
    "print(test_df.dtypes)\n",
    "\n",
    "# Clean data types if necessary\n",
    "train_df['gender'] = train_df['gender'].astype(int)\n",
    "test_df['gender'] = test_df['gender'].astype(int)\n"
   ]
  },
  {
   "cell_type": "markdown",
   "metadata": {},
   "source": [
    "### Encoding"
   ]
  },
  {
   "cell_type": "code",
   "execution_count": 35,
   "metadata": {},
   "outputs": [],
   "source": [
    "# Convert surgery side to numeric in the training data\n",
    "train_df['surgery_side'] = train_df['surgery_side'].map({'Left': 0, 'Right': 1})\n",
    "\n",
    "# Get the correct entries for our test df\n",
    "test_df = test_df[test_df['surgery_side'].isin([0, 1])]\n",
    "\n",
    "# Convert surgery side to int in the testing data\n",
    "test_df['surgery_side'] = test_df['surgery_side'].astype(int)\n"
   ]
  },
  {
   "cell_type": "code",
   "execution_count": 36,
   "metadata": {},
   "outputs": [
    {
     "data": {
      "text/html": [
       "<div>\n",
       "<style scoped>\n",
       "    .dataframe tbody tr th:only-of-type {\n",
       "        vertical-align: middle;\n",
       "    }\n",
       "\n",
       "    .dataframe tbody tr th {\n",
       "        vertical-align: top;\n",
       "    }\n",
       "\n",
       "    .dataframe thead th {\n",
       "        text-align: right;\n",
       "    }\n",
       "</style>\n",
       "<table border=\"1\" class=\"dataframe\">\n",
       "  <thead>\n",
       "    <tr style=\"text-align: right;\">\n",
       "      <th></th>\n",
       "      <th>gender</th>\n",
       "      <th>height_cm</th>\n",
       "      <th>weight_kg</th>\n",
       "      <th>bmi</th>\n",
       "      <th>surgery_side</th>\n",
       "      <th>femur_dim</th>\n",
       "      <th>tibia_dim</th>\n",
       "    </tr>\n",
       "  </thead>\n",
       "  <tbody>\n",
       "    <tr>\n",
       "      <th>1</th>\n",
       "      <td>0</td>\n",
       "      <td>116.84</td>\n",
       "      <td>62.20</td>\n",
       "      <td>45.56</td>\n",
       "      <td>0</td>\n",
       "      <td>53.5</td>\n",
       "      <td>58.0</td>\n",
       "    </tr>\n",
       "    <tr>\n",
       "      <th>2</th>\n",
       "      <td>0</td>\n",
       "      <td>127.00</td>\n",
       "      <td>52.00</td>\n",
       "      <td>32.24</td>\n",
       "      <td>0</td>\n",
       "      <td>57.5</td>\n",
       "      <td>66.0</td>\n",
       "    </tr>\n",
       "    <tr>\n",
       "      <th>3</th>\n",
       "      <td>0</td>\n",
       "      <td>124.46</td>\n",
       "      <td>68.64</td>\n",
       "      <td>44.31</td>\n",
       "      <td>1</td>\n",
       "      <td>65.3</td>\n",
       "      <td>66.0</td>\n",
       "    </tr>\n",
       "    <tr>\n",
       "      <th>4</th>\n",
       "      <td>0</td>\n",
       "      <td>121.92</td>\n",
       "      <td>75.00</td>\n",
       "      <td>50.46</td>\n",
       "      <td>0</td>\n",
       "      <td>60.8</td>\n",
       "      <td>67.0</td>\n",
       "    </tr>\n",
       "    <tr>\n",
       "      <th>5</th>\n",
       "      <td>0</td>\n",
       "      <td>127.00</td>\n",
       "      <td>72.73</td>\n",
       "      <td>45.09</td>\n",
       "      <td>1</td>\n",
       "      <td>59.0</td>\n",
       "      <td>63.8</td>\n",
       "    </tr>\n",
       "  </tbody>\n",
       "</table>\n",
       "</div>"
      ],
      "text/plain": [
       "   gender  height_cm  weight_kg    bmi  surgery_side  femur_dim  tibia_dim\n",
       "1       0     116.84      62.20  45.56             0       53.5       58.0\n",
       "2       0     127.00      52.00  32.24             0       57.5       66.0\n",
       "3       0     124.46      68.64  44.31             1       65.3       66.0\n",
       "4       0     121.92      75.00  50.46             0       60.8       67.0\n",
       "5       0     127.00      72.73  45.09             1       59.0       63.8"
      ]
     },
     "execution_count": 36,
     "metadata": {},
     "output_type": "execute_result"
    }
   ],
   "source": [
    "train_df.head()"
   ]
  },
  {
   "cell_type": "code",
   "execution_count": 37,
   "metadata": {},
   "outputs": [
    {
     "data": {
      "text/html": [
       "<div>\n",
       "<style scoped>\n",
       "    .dataframe tbody tr th:only-of-type {\n",
       "        vertical-align: middle;\n",
       "    }\n",
       "\n",
       "    .dataframe tbody tr th {\n",
       "        vertical-align: top;\n",
       "    }\n",
       "\n",
       "    .dataframe thead th {\n",
       "        text-align: right;\n",
       "    }\n",
       "</style>\n",
       "<table border=\"1\" class=\"dataframe\">\n",
       "  <thead>\n",
       "    <tr style=\"text-align: right;\">\n",
       "      <th></th>\n",
       "      <th>gender</th>\n",
       "      <th>height_cm</th>\n",
       "      <th>weight_kg</th>\n",
       "      <th>bmi</th>\n",
       "      <th>surgery_side</th>\n",
       "      <th>femur_dim</th>\n",
       "      <th>tibia_dim</th>\n",
       "    </tr>\n",
       "  </thead>\n",
       "  <tbody>\n",
       "    <tr>\n",
       "      <th>0</th>\n",
       "      <td>0</td>\n",
       "      <td>177.8</td>\n",
       "      <td>95.3</td>\n",
       "      <td>30.13</td>\n",
       "      <td>1</td>\n",
       "      <td>66.0</td>\n",
       "      <td>74.0</td>\n",
       "    </tr>\n",
       "    <tr>\n",
       "      <th>1</th>\n",
       "      <td>1</td>\n",
       "      <td>173.2</td>\n",
       "      <td>100.2</td>\n",
       "      <td>32.49</td>\n",
       "      <td>0</td>\n",
       "      <td>70.0</td>\n",
       "      <td>77.0</td>\n",
       "    </tr>\n",
       "    <tr>\n",
       "      <th>2</th>\n",
       "      <td>0</td>\n",
       "      <td>170.2</td>\n",
       "      <td>98.4</td>\n",
       "      <td>34.00</td>\n",
       "      <td>0</td>\n",
       "      <td>65.0</td>\n",
       "      <td>74.0</td>\n",
       "    </tr>\n",
       "    <tr>\n",
       "      <th>3</th>\n",
       "      <td>0</td>\n",
       "      <td>160.0</td>\n",
       "      <td>62.1</td>\n",
       "      <td>24.27</td>\n",
       "      <td>0</td>\n",
       "      <td>59.0</td>\n",
       "      <td>64.0</td>\n",
       "    </tr>\n",
       "    <tr>\n",
       "      <th>4</th>\n",
       "      <td>1</td>\n",
       "      <td>180.3</td>\n",
       "      <td>161.0</td>\n",
       "      <td>49.51</td>\n",
       "      <td>1</td>\n",
       "      <td>75.0</td>\n",
       "      <td>80.0</td>\n",
       "    </tr>\n",
       "  </tbody>\n",
       "</table>\n",
       "</div>"
      ],
      "text/plain": [
       "   gender  height_cm  weight_kg    bmi  surgery_side  femur_dim  tibia_dim\n",
       "0       0      177.8       95.3  30.13             1       66.0       74.0\n",
       "1       1      173.2      100.2  32.49             0       70.0       77.0\n",
       "2       0      170.2       98.4  34.00             0       65.0       74.0\n",
       "3       0      160.0       62.1  24.27             0       59.0       64.0\n",
       "4       1      180.3      161.0  49.51             1       75.0       80.0"
      ]
     },
     "execution_count": 37,
     "metadata": {},
     "output_type": "execute_result"
    }
   ],
   "source": [
    "test_df.head()"
   ]
  },
  {
   "cell_type": "code",
   "execution_count": 38,
   "metadata": {},
   "outputs": [
    {
     "name": "stdout",
     "output_type": "stream",
     "text": [
      "Duplicates in training data: 0\n",
      "Duplicates in testing data: 0\n"
     ]
    }
   ],
   "source": [
    "# Recheck for duplicates in the training and testing data\n",
    "print(f\"Duplicates in training data: {test_df.duplicated().sum()}\")\n",
    "print(f\"Duplicates in testing data: {test_df.duplicated().sum()}\")\n",
    "\n",
    "# Drop duplicates\n",
    "train_df = train_df.drop_duplicates()\n",
    "test_df = test_df.drop_duplicates()"
   ]
  },
  {
   "cell_type": "markdown",
   "metadata": {},
   "source": [
    "## Store"
   ]
  },
  {
   "cell_type": "code",
   "execution_count": 39,
   "metadata": {},
   "outputs": [],
   "source": [
    "# Save the cleaned training data\n",
    "train_df.to_csv(r'C:\\Users\\HP\\Desktop\\Predicting-Component-Sizing-in-Primary-Total-Knee-Arthroplasty-using-Demographic-Variables\\Data\\Processed\\train_cleaned.csv', index=False)\n",
    "\n",
    "# Save the cleaned test data\n",
    "test_df.to_csv(r'C:\\Users\\HP\\Desktop\\Predicting-Component-Sizing-in-Primary-Total-Knee-Arthroplasty-using-Demographic-Variables\\Data\\Processed\\test_cleaned.csv', index=False)"
   ]
  }
 ],
 "metadata": {
  "kernelspec": {
   "display_name": "Python 3",
   "language": "python",
   "name": "python3"
  },
  "language_info": {
   "codemirror_mode": {
    "name": "ipython",
    "version": 3
   },
   "file_extension": ".py",
   "mimetype": "text/x-python",
   "name": "python",
   "nbconvert_exporter": "python",
   "pygments_lexer": "ipython3",
   "version": "3.10.13"
  }
 },
 "nbformat": 4,
 "nbformat_minor": 2
}
